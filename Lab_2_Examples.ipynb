{
 "cells": [
  {
   "cell_type": "code",
   "execution_count": null,
   "id": "9003e7dc-91bd-46db-b983-01c199f37855",
   "metadata": {},
   "outputs": [],
   "source": [
    "dictionary = dict({\"test\": \"value\", \"test1\": \"value1\", \"test2\": \"value2\"})\n",
    "print(dictionary['test'])"
   ]
  },
  {
   "cell_type": "code",
   "execution_count": null,
   "id": "06a3f849-d996-4877-a556-b8f22a40c3c8",
   "metadata": {},
   "outputs": [],
   "source": [
    "print(dictionary.test)"
   ]
  },
  {
   "cell_type": "code",
   "execution_count": null,
   "id": "9797b43b-bc29-4b39-9b17-3f571fa4f954",
   "metadata": {},
   "outputs": [],
   "source": [
    "from datetime import datetime\n",
    "today = datetime(2022, 2, 2)\n",
    "print(today)"
   ]
  },
  {
   "cell_type": "code",
   "execution_count": null,
   "id": "ea052141-3e66-4d98-960a-30b68606a2be",
   "metadata": {},
   "outputs": [],
   "source": [
    "print(today.day)"
   ]
  }
 ],
 "metadata": {
  "kernelspec": {
   "display_name": "Python 3 (ipykernel)",
   "language": "python",
   "name": "python3"
  },
  "language_info": {
   "codemirror_mode": {
    "name": "ipython",
    "version": 3
   },
   "file_extension": ".py",
   "mimetype": "text/x-python",
   "name": "python",
   "nbconvert_exporter": "python",
   "pygments_lexer": "ipython3",
   "version": "3.9.7"
  }
 },
 "nbformat": 4,
 "nbformat_minor": 5
}
