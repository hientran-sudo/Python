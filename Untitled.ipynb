{
 "cells": [
  {
   "cell_type": "code",
   "execution_count": 1,
   "id": "efa36376",
   "metadata": {},
   "outputs": [],
   "source": [
    "def add(a,b):\n",
    "    print(a+b)"
   ]
  },
  {
   "cell_type": "code",
   "execution_count": 2,
   "id": "20748c17",
   "metadata": {},
   "outputs": [
    {
     "name": "stdout",
     "output_type": "stream",
     "text": [
      "6\n"
     ]
    }
   ],
   "source": [
    "add(2,4);"
   ]
  },
  {
   "cell_type": "code",
   "execution_count": 3,
   "id": "5aa1397c",
   "metadata": {},
   "outputs": [],
   "source": [
    "def add(a,b):\n",
    "    return a+b"
   ]
  },
  {
   "cell_type": "code",
   "execution_count": 5,
   "id": "7b592d3f",
   "metadata": {},
   "outputs": [],
   "source": [
    "add(1,4);"
   ]
  },
  {
   "cell_type": "code",
   "execution_count": 6,
   "id": "13dc558d",
   "metadata": {},
   "outputs": [],
   "source": [
    "import math "
   ]
  },
  {
   "cell_type": "code",
   "execution_count": 10,
   "id": "8e8b09ab",
   "metadata": {},
   "outputs": [
    {
     "name": "stdout",
     "output_type": "stream",
     "text": [
      "2.0\n"
     ]
    }
   ],
   "source": [
    "print(math.sqrt(4));"
   ]
  },
  {
   "cell_type": "code",
   "execution_count": 11,
   "id": "89a3a5b6",
   "metadata": {},
   "outputs": [],
   "source": [
    "string = \"Hello World\""
   ]
  },
  {
   "cell_type": "code",
   "execution_count": 12,
   "id": "c80e75d0",
   "metadata": {},
   "outputs": [
    {
     "data": {
      "text/plain": [
       "1"
      ]
     },
     "execution_count": 12,
     "metadata": {},
     "output_type": "execute_result"
    }
   ],
   "source": [
    "string.count(\"H\")"
   ]
  },
  {
   "cell_type": "code",
   "execution_count": 17,
   "id": "b553a69b",
   "metadata": {},
   "outputs": [],
   "source": [
    "classList =[]"
   ]
  },
  {
   "cell_type": "code",
   "execution_count": 18,
   "id": "16ee2532",
   "metadata": {},
   "outputs": [],
   "source": [
    "student1 = \"Hien\""
   ]
  },
  {
   "cell_type": "code",
   "execution_count": 19,
   "id": "0e56b2f2",
   "metadata": {},
   "outputs": [],
   "source": [
    "student2 = \"Trang\""
   ]
  },
  {
   "cell_type": "code",
   "execution_count": 20,
   "id": "fd089e46",
   "metadata": {},
   "outputs": [],
   "source": [
    "classList.append(student1)"
   ]
  },
  {
   "cell_type": "code",
   "execution_count": 21,
   "id": "82368f34",
   "metadata": {},
   "outputs": [],
   "source": [
    "classList.append(student2)"
   ]
  },
  {
   "cell_type": "code",
   "execution_count": 22,
   "id": "4236c368",
   "metadata": {},
   "outputs": [
    {
     "data": {
      "text/plain": [
       "['Hien', 'Trang']"
      ]
     },
     "execution_count": 22,
     "metadata": {},
     "output_type": "execute_result"
    }
   ],
   "source": [
    "classList"
   ]
  },
  {
   "cell_type": "code",
   "execution_count": 23,
   "id": "54ff082a",
   "metadata": {},
   "outputs": [],
   "source": [
    "classList +=[\"May\",\"Peter\",\"Lee\"]"
   ]
  },
  {
   "cell_type": "code",
   "execution_count": 24,
   "id": "9bd5b0c5",
   "metadata": {},
   "outputs": [
    {
     "data": {
      "text/plain": [
       "['Hien', 'Trang', 'May', 'Peter', 'Lee']"
      ]
     },
     "execution_count": 24,
     "metadata": {},
     "output_type": "execute_result"
    }
   ],
   "source": [
    "classList"
   ]
  },
  {
   "cell_type": "code",
   "execution_count": 25,
   "id": "2bdd7a10",
   "metadata": {},
   "outputs": [],
   "source": [
    "classList.insert(1,\"Bob\")"
   ]
  },
  {
   "cell_type": "code",
   "execution_count": 26,
   "id": "11e29f9b",
   "metadata": {},
   "outputs": [
    {
     "data": {
      "text/plain": [
       "['Hien', 'Bob', 'Trang', 'May', 'Peter', 'Lee']"
      ]
     },
     "execution_count": 26,
     "metadata": {},
     "output_type": "execute_result"
    }
   ],
   "source": [
    "classList"
   ]
  },
  {
   "cell_type": "code",
   "execution_count": 27,
   "id": "a4572889",
   "metadata": {},
   "outputs": [],
   "source": [
    "student = {\"id\":1,\"first name\": \"Amy\", \"last name\":\"Jong\",\"dob\":\"01/01/1997\"}"
   ]
  },
  {
   "cell_type": "code",
   "execution_count": 28,
   "id": "23882156",
   "metadata": {},
   "outputs": [
    {
     "data": {
      "text/plain": [
       "dict_keys(['id', 'first name', 'last name', 'dob'])"
      ]
     },
     "execution_count": 28,
     "metadata": {},
     "output_type": "execute_result"
    }
   ],
   "source": [
    "student.keys()"
   ]
  },
  {
   "cell_type": "code",
   "execution_count": 29,
   "id": "3eb01760",
   "metadata": {},
   "outputs": [
    {
     "data": {
      "text/plain": [
       "dict_values([1, 'Amy', 'Jong', '01/01/1997'])"
      ]
     },
     "execution_count": 29,
     "metadata": {},
     "output_type": "execute_result"
    }
   ],
   "source": [
    "student.values()"
   ]
  },
  {
   "cell_type": "code",
   "execution_count": 30,
   "id": "cec8e637",
   "metadata": {},
   "outputs": [
    {
     "data": {
      "text/plain": [
       "'01/01/1997'"
      ]
     },
     "execution_count": 30,
     "metadata": {},
     "output_type": "execute_result"
    }
   ],
   "source": [
    "student[\"dob\"]"
   ]
  },
  {
   "cell_type": "code",
   "execution_count": 31,
   "id": "931f56cf",
   "metadata": {},
   "outputs": [],
   "source": [
    "classList.append(student)"
   ]
  },
  {
   "cell_type": "code",
   "execution_count": 32,
   "id": "10195d82",
   "metadata": {},
   "outputs": [
    {
     "data": {
      "text/plain": [
       "['Hien',\n",
       " 'Bob',\n",
       " 'Trang',\n",
       " 'May',\n",
       " 'Peter',\n",
       " 'Lee',\n",
       " {'id': 1, 'first name': 'Amy', 'last name': 'Jong', 'dob': '01/01/1997'}]"
      ]
     },
     "execution_count": 32,
     "metadata": {},
     "output_type": "execute_result"
    }
   ],
   "source": [
    "classList"
   ]
  },
  {
   "cell_type": "code",
   "execution_count": 34,
   "id": "39701671",
   "metadata": {},
   "outputs": [
    {
     "data": {
      "text/plain": [
       "'Jong'"
      ]
     },
     "execution_count": 34,
     "metadata": {},
     "output_type": "execute_result"
    }
   ],
   "source": [
    "classList[len(classList)-1]['last name']"
   ]
  },
  {
   "cell_type": "code",
   "execution_count": 35,
   "id": "5046825c",
   "metadata": {},
   "outputs": [
    {
     "data": {
      "text/plain": [
       "{'id': 1, 'first name': 'Amy', 'last name': 'Jong', 'dob': '01/01/1997'}"
      ]
     },
     "execution_count": 35,
     "metadata": {},
     "output_type": "execute_result"
    }
   ],
   "source": [
    "classList.pop()"
   ]
  },
  {
   "cell_type": "code",
   "execution_count": 36,
   "id": "cc13b966",
   "metadata": {},
   "outputs": [
    {
     "data": {
      "text/plain": [
       "'Hien'"
      ]
     },
     "execution_count": 36,
     "metadata": {},
     "output_type": "execute_result"
    }
   ],
   "source": [
    "classList.pop(0)"
   ]
  },
  {
   "cell_type": "code",
   "execution_count": 39,
   "id": "6128e583",
   "metadata": {},
   "outputs": [
    {
     "data": {
      "text/plain": [
       "'May'"
      ]
     },
     "execution_count": 39,
     "metadata": {},
     "output_type": "execute_result"
    }
   ],
   "source": [
    "classList.pop()"
   ]
  },
  {
   "cell_type": "code",
   "execution_count": 40,
   "id": "0b9dce56",
   "metadata": {},
   "outputs": [
    {
     "data": {
      "text/plain": [
       "['Bob', 'Trang']"
      ]
     },
     "execution_count": 40,
     "metadata": {},
     "output_type": "execute_result"
    }
   ],
   "source": [
    "classList"
   ]
  },
  {
   "cell_type": "code",
   "execution_count": 45,
   "id": "3eda82aa",
   "metadata": {},
   "outputs": [],
   "source": [
    "classList +=[\"May\",\"Peter\",\"Lee\"]"
   ]
  },
  {
   "cell_type": "code",
   "execution_count": 46,
   "id": "ac0c2e0e",
   "metadata": {},
   "outputs": [
    {
     "data": {
      "text/plain": [
       "['Bob', 'Trang', 'May', 'Peter', 'Lee']"
      ]
     },
     "execution_count": 46,
     "metadata": {},
     "output_type": "execute_result"
    }
   ],
   "source": [
    "classList"
   ]
  },
  {
   "cell_type": "code",
   "execution_count": 47,
   "id": "ac24b997",
   "metadata": {},
   "outputs": [
    {
     "data": {
      "text/plain": [
       "['May', 'Peter', 'Lee']"
      ]
     },
     "execution_count": 47,
     "metadata": {},
     "output_type": "execute_result"
    }
   ],
   "source": [
    "classList[2:]"
   ]
  },
  {
   "cell_type": "code",
   "execution_count": 48,
   "id": "bc07badf",
   "metadata": {},
   "outputs": [
    {
     "data": {
      "text/plain": [
       "['May', 'Lee']"
      ]
     },
     "execution_count": 48,
     "metadata": {},
     "output_type": "execute_result"
    }
   ],
   "source": [
    "classList[2::2]"
   ]
  },
  {
   "cell_type": "code",
   "execution_count": null,
   "id": "6916384f",
   "metadata": {},
   "outputs": [],
   "source": [
    "classList[:]"
   ]
  }
 ],
 "metadata": {
  "kernelspec": {
   "display_name": "Python 3 (ipykernel)",
   "language": "python",
   "name": "python3"
  },
  "language_info": {
   "codemirror_mode": {
    "name": "ipython",
    "version": 3
   },
   "file_extension": ".py",
   "mimetype": "text/x-python",
   "name": "python",
   "nbconvert_exporter": "python",
   "pygments_lexer": "ipython3",
   "version": "3.9.7"
  }
 },
 "nbformat": 4,
 "nbformat_minor": 5
}
