{
 "cells": [
  {
   "cell_type": "code",
   "execution_count": null,
   "id": "f6f8f8f4-d8f3-445b-82d1-55bcc4f8ff88",
   "metadata": {},
   "outputs": [],
   "source": []
  },
  {
   "cell_type": "code",
   "execution_count": null,
   "id": "c3eacaf9-8118-47b0-8d80-cd3e398ada88",
   "metadata": {},
   "outputs": [],
   "source": [
    "import pandas as pd\n",
    "poll_url = 'http://projects.fivethirtyeight.com/general-model/president_general_polls_2016.csv'\n",
    "polls = pd.read_csv(poll_url) "
   ]
  },
  {
   "cell_type": "code",
   "execution_count": null,
   "id": "479a8693-a3f6-4c94-a10d-1d90392f9ddc",
   "metadata": {},
   "outputs": [],
   "source": [
    "import pandas as pd\n",
    "poll_url = 'http://projects.fivethirtyeight.com/general-model/president_general_polls_2016.csv'\n",
    "polls = pd.read_csv(poll_url) "
   ]
  }
 ],
 "metadata": {
  "kernelspec": {
   "display_name": "Python 3 (ipykernel)",
   "language": "python",
   "name": "python3"
  },
  "language_info": {
   "codemirror_mode": {
    "name": "ipython",
    "version": 3
   },
   "file_extension": ".py",
   "mimetype": "text/x-python",
   "name": "python",
   "nbconvert_exporter": "python",
   "pygments_lexer": "ipython3",
   "version": "3.9.7"
  }
 },
 "nbformat": 4,
 "nbformat_minor": 5
}
