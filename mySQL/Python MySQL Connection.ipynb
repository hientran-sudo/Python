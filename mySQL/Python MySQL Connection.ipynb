{
 "cells": [
  {
   "cell_type": "code",
   "execution_count": 1,
   "id": "7c5b6832-a2ee-46cf-9662-bd70de88ae04",
   "metadata": {},
   "outputs": [
    {
     "name": "stdout",
     "output_type": "stream",
     "text": [
      "0      1780000\n",
      "1       731200\n",
      "2      2168000\n",
      "3      2022000\n",
      "4      2982146\n",
      "        ...   \n",
      "353     791926\n",
      "354     776733\n",
      "355     735167\n",
      "356     711470\n",
      "357    1410000\n",
      "Name: Population, Length: 358, dtype: int64\n"
     ]
    }
   ],
   "source": [
    "import pymysql.cursors\n",
    "import pandas as pd\n",
    "\n",
    "# Connect to the database\n",
    "connection = pymysql.connect(\n",
    "    host='localhost',\n",
    "    user='python_agent',\n",
    "    password='python_agent1!',\n",
    "    db='world',\n",
    "    charset='utf8mb4',\n",
    "    cursorclass=pymysql.cursors.DictCursor)\n",
    "\n",
    "#try running a query\n",
    "try:\n",
    "    with connection.cursor() as cursor:\n",
    "        sql = \"SELECT * FROM City WHERE population > 700000\"\n",
    "        cursor.execute(sql)\n",
    "        \n",
    "        #Extract the data in a dataframe\n",
    "        df = pd.DataFrame(cursor.fetchall())\n",
    "finally:\n",
    "    connection.close()\n",
    "    \n",
    "print(df.Population)"
   ]
  },
  {
   "cell_type": "code",
   "execution_count": 5,
   "id": "1cea038a-0887-420d-9b78-438aa774fce0",
   "metadata": {},
   "outputs": [
    {
     "name": "stdout",
     "output_type": "stream",
     "text": [
      "0    Asia\n",
      "Name: Continent, dtype: object\n"
     ]
    }
   ],
   "source": [
    "connection = pymysql.connect(\n",
    "    host='localhost',\n",
    "    user='python_agent',\n",
    "    password='python_agent1!',\n",
    "    db='world',\n",
    "    charset='utf8mb4',\n",
    "    cursorclass=pymysql.cursors.DictCursor)\n",
    "\n",
    "#try running a query\n",
    "try:\n",
    "    with connection.cursor() as cursor:\n",
    "        sql = \"SELECT * FROM Country WHERE Name='Vietnam'\"\n",
    "        cursor.execute(sql)\n",
    "        \n",
    "        #Extract the data in a dataframe\n",
    "        df = pd.DataFrame(cursor.fetchall())\n",
    "finally:\n",
    "    connection.close()\n",
    "    \n",
    "print(df.Continent)"
   ]
  },
  {
   "cell_type": "code",
   "execution_count": null,
   "id": "49b2019e-c052-4e6b-bdf3-990cfd7ee6f8",
   "metadata": {},
   "outputs": [],
   "source": []
  }
 ],
 "metadata": {
  "kernelspec": {
   "display_name": "Python 3 (ipykernel)",
   "language": "python",
   "name": "python3"
  },
  "language_info": {
   "codemirror_mode": {
    "name": "ipython",
    "version": 3
   },
   "file_extension": ".py",
   "mimetype": "text/x-python",
   "name": "python",
   "nbconvert_exporter": "python",
   "pygments_lexer": "ipython3",
   "version": "3.9.7"
  }
 },
 "nbformat": 4,
 "nbformat_minor": 5
}
